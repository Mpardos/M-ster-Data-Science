{
 "cells": [
  {
   "cell_type": "markdown",
   "metadata": {},
   "source": [
    "-----------------------"
   ]
  },
  {
   "cell_type": "markdown",
   "metadata": {},
   "source": [
    "# Quick Exercises 2\n",
    "\n",
    "* Write a function to calculate the number of words, number of lines, and length of a string the same way the wc command does in the command line"
   ]
  },
  {
   "cell_type": "code",
   "execution_count": 5,
   "metadata": {},
   "outputs": [],
   "source": [
    "quijote = '''En un lugar de la Mancha\n",
    "de cuyo nombre no quiero acordarme \n",
    "vivia un hidalgo etc etc '''\n",
    "\n",
    "\n",
    "def wc(string):\n",
    "    lines = len(string.split('\\n'))\n",
    "    words = len(string.split())\n",
    "    chars = len(string)\n",
    "    \n",
    "    return lines, words, chars\n"
   ]
  },
  {
   "cell_type": "code",
   "execution_count": 6,
   "metadata": {},
   "outputs": [
    {
     "data": {
      "text/plain": [
       "'En un lugar de la Mancha\\nde cuyo nombre no quiero acordarme \\nvivia un hidalgo etc etc '"
      ]
     },
     "execution_count": 6,
     "metadata": {},
     "output_type": "execute_result"
    }
   ],
   "source": [
    "quijote"
   ]
  },
  {
   "cell_type": "code",
   "execution_count": 7,
   "metadata": {},
   "outputs": [
    {
     "data": {
      "text/plain": [
       "(3, 17, 86)"
      ]
     },
     "execution_count": 7,
     "metadata": {},
     "output_type": "execute_result"
    }
   ],
   "source": [
    "wc(quijote)"
   ]
  },
  {
   "cell_type": "code",
   "execution_count": 4,
   "metadata": {},
   "outputs": [
    {
     "data": {
      "text/plain": [
       "8"
      ]
     },
     "execution_count": 4,
     "metadata": {},
     "output_type": "execute_result"
    }
   ],
   "source": [
    "a='dfsdfsdf'\n",
    "#dir(a)\n",
    "\n",
    "a.__len__()"
   ]
  },
  {
   "cell_type": "code",
   "execution_count": null,
   "metadata": {},
   "outputs": [],
   "source": []
  },
  {
   "cell_type": "code",
   "execution_count": null,
   "metadata": {},
   "outputs": [],
   "source": []
  },
  {
   "cell_type": "markdown",
   "metadata": {},
   "source": [
    "-------"
   ]
  },
  {
   "cell_type": "markdown",
   "metadata": {},
   "source": [
    "* Write a Python program to remove the nth index character from a string. If the input string is empty print warning."
   ]
  },
  {
   "cell_type": "code",
   "execution_count": 19,
   "metadata": {},
   "outputs": [],
   "source": [
    "def remove_char(string, n):\n",
    "    if not string:\n",
    "        print (\"String is empty\")\n",
    "    else:\n",
    "        return string[:n-1] + string[n:]"
   ]
  },
  {
   "cell_type": "code",
   "execution_count": 13,
   "metadata": {},
   "outputs": [
    {
     "name": "stdout",
     "output_type": "stream",
     "text": [
      "hay\n"
     ]
    }
   ],
   "source": [
    "string=\"12345\"\n",
    "\n",
    "if not string:\n",
    "    print (\"Hello\")\n",
    "else:\n",
    "    print(\"hay\")"
   ]
  },
  {
   "cell_type": "code",
   "execution_count": 9,
   "metadata": {},
   "outputs": [
    {
     "data": {
      "text/plain": [
       "0"
      ]
     },
     "execution_count": 9,
     "metadata": {},
     "output_type": "execute_result"
    }
   ],
   "source": [
    "len(\"\")"
   ]
  },
  {
   "cell_type": "code",
   "execution_count": 20,
   "metadata": {},
   "outputs": [
    {
     "data": {
      "text/plain": [
       "'1345'"
      ]
     },
     "execution_count": 20,
     "metadata": {},
     "output_type": "execute_result"
    }
   ],
   "source": [
    "remove_char(string, 2)"
   ]
  },
  {
   "cell_type": "markdown",
   "metadata": {},
   "source": [
    "----------"
   ]
  },
  {
   "cell_type": "markdown",
   "metadata": {},
   "source": [
    "* While inside python, go to ~/Data/opentraveldata/ and list the files. Repeat the same for   /home/dsc/Data/us_dot/otp and ~/Data/us_dot/traffic/.  \n",
    "\n",
    "Use the list of visited directories from dhist and write for loop which will return for each visited directory its name and number of files inside.\n"
   ]
  },
  {
   "cell_type": "code",
   "execution_count": null,
   "metadata": {},
   "outputs": [],
   "source": [
    "%cd ../data/opentraveldata/\n",
    "!ls\n",
    "\n",
    "%cd /home/dsc/Data/us_dot/otp\n",
    "%ls\n",
    "\n",
    "%cd ~/Data/us_dot/traffic/\n",
    "%ls"
   ]
  },
  {
   "cell_type": "code",
   "execution_count": null,
   "metadata": {},
   "outputs": [],
   "source": [
    "%dhist"
   ]
  },
  {
   "cell_type": "code",
   "execution_count": null,
   "metadata": {},
   "outputs": [],
   "source": [
    "for directory in _dh:\n",
    "    lines = ! ls {directory} | wc -l \n",
    "    print(directory, lines)"
   ]
  },
  {
   "cell_type": "code",
   "execution_count": null,
   "metadata": {},
   "outputs": [],
   "source": [
    "for i in _dh:\n",
    "    wc=!(ls -l $i| wc –l)\n",
    "    print(i, wc[0])  "
   ]
  },
  {
   "cell_type": "code",
   "execution_count": null,
   "metadata": {},
   "outputs": [],
   "source": []
  },
  {
   "cell_type": "markdown",
   "metadata": {},
   "source": [
    "-----"
   ]
  },
  {
   "cell_type": "markdown",
   "metadata": {},
   "source": [
    "* Write a function that will take text file and pattern as input parameters, and return the number of occurances of case insensitive pattern inside a text (similar to: grep -i –o pattern file | wc -l)\n"
   ]
  },
  {
   "cell_type": "raw",
   "metadata": {},
   "source": [
    "The output capture has the following special attributes:\n",
    ".l (or .list) : value as list.\n",
    ".n (or .nlstr): value as newline-separated string.\n",
    ".s (or .spstr): value as space-separated string."
   ]
  },
  {
   "cell_type": "code",
   "execution_count": 27,
   "metadata": {},
   "outputs": [],
   "source": [
    "def my_grep(text_file, pattern):\n",
    "    file_input=!cat {text_file}\n",
    "    repetitions = file_input.s.upper().count(pattern.upper())\n",
    "    return repetitions\n",
    "\n"
   ]
  },
  {
   "cell_type": "code",
   "execution_count": 30,
   "metadata": {},
   "outputs": [
    {
     "data": {
      "text/plain": [
       "13"
      ]
     },
     "execution_count": 30,
     "metadata": {},
     "output_type": "execute_result"
    }
   ],
   "source": [
    "my_grep('full_python_history.txt', 'hist')"
   ]
  },
  {
   "cell_type": "markdown",
   "metadata": {},
   "source": [
    "--------"
   ]
  }
 ],
 "metadata": {
  "kernelspec": {
   "display_name": "Python 3",
   "language": "python",
   "name": "python3"
  },
  "language_info": {
   "codemirror_mode": {
    "name": "ipython",
    "version": 3
   },
   "file_extension": ".py",
   "mimetype": "text/x-python",
   "name": "python",
   "nbconvert_exporter": "python",
   "pygments_lexer": "ipython3",
   "version": "3.6.8"
  }
 },
 "nbformat": 4,
 "nbformat_minor": 2
}

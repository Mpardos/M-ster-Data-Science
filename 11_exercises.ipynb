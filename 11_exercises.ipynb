{
 "cells": [
  {
   "cell_type": "markdown",
   "metadata": {},
   "source": [
    "* Write a Python function that takes a list of words and returns the longest one with its length in the followinf form: (Length, word)"
   ]
  },
  {
   "cell_type": "code",
   "execution_count": 58,
   "metadata": {},
   "outputs": [
    {
     "name": "stdout",
     "output_type": "stream",
     "text": [
      "(9, 'Exercises')\n"
     ]
    }
   ],
   "source": [
    "#this is example with tuple and list of tuples…\n",
    "\n",
    "def find_longest_word(words_list):\n",
    "    word_len = []\n",
    "    for n in words_list:\n",
    "        word_len.append((len(n), n))\n",
    "#    word_len.sort(reverse=True)\n",
    "#    word_len.sort(key=lambda x:x[1]) #string sort\n",
    "    word_len.sort(key=lambda x:x[0]) #int sort \n",
    "#    print(word_len)\n",
    "    return word_len[-1]\n",
    "\n",
    "print(find_longest_word([\"PHP\", \"Exercises\", \"Backend\"]))"
   ]
  },
  {
   "cell_type": "code",
   "execution_count": 69,
   "metadata": {},
   "outputs": [
    {
     "name": "stdout",
     "output_type": "stream",
     "text": [
      "9\n"
     ]
    }
   ],
   "source": [
    "def find_longest_word_v2(words):\n",
    "    word_len=[]\n",
    "    for word in words:\n",
    "        word_len.append((word, len(word)))\n",
    "    return sorted(word_len, key=lambda x:x[1], reverse=True)[0][1]\n",
    "\n",
    "print(find_longest_word_v2([\"PHP\", \"Exercises\", \"Backend\"]))"
   ]
  },
  {
   "cell_type": "code",
   "execution_count": 73,
   "metadata": {},
   "outputs": [
    {
     "name": "stdout",
     "output_type": "stream",
     "text": [
      "(9, 'Exercises')\n"
     ]
    }
   ],
   "source": [
    "def find_longest_word_v3(word_list):\n",
    "    word_list.sort(key=lambda x:len(x), reverse=True)\n",
    "    return len(word_list[0]), word_list[0]\n",
    "\n",
    "print(find_longest_word_v3([\"PHP\", \"Exercises\", \"Backend\"]))"
   ]
  },
  {
   "cell_type": "code",
   "execution_count": null,
   "metadata": {},
   "outputs": [],
   "source": []
  }
 ],
 "metadata": {
  "kernelspec": {
   "display_name": "Python 3",
   "language": "python",
   "name": "python3"
  },
  "language_info": {
   "codemirror_mode": {
    "name": "ipython",
    "version": 3
   },
   "file_extension": ".py",
   "mimetype": "text/x-python",
   "name": "python",
   "nbconvert_exporter": "python",
   "pygments_lexer": "ipython3",
   "version": "3.6.8"
  }
 },
 "nbformat": 4,
 "nbformat_minor": 2
}

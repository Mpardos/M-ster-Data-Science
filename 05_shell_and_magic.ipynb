{
 "cells": [
  {
   "cell_type": "markdown",
   "metadata": {},
   "source": [
    "# Using the shell from within IPython\n",
    "\n",
    "with `!`, we can send commands to the underlying operating system.  \n",
    "__IMPORTANT!! The shell where !command runs is immediately discarded after executing ‘command’.__\n"
   ]
  },
  {
   "cell_type": "code",
   "execution_count": 2,
   "metadata": {},
   "outputs": [
    {
     "name": "stdout",
     "output_type": "stream",
     "text": [
      "/home/dsc/python_class\n",
      "vie may 17 17:08:54 CEST 2019\n",
      "01_intro.ipynb\t\t\t09_exercises.ipynb\n",
      "02_flow_control.ipynb\t\t10_tuplas.ipynb\n",
      "03_functions_and_imports.ipynb\t11_exercises.ipynb\n",
      "04_shell_magics.ipynb\t\t12_Dict_y_set.ipynb\n",
      "05_shell_and_magic.ipynb\t13_exercises.ipynb\n",
      "06_exercises.ipynb\t\t__pycache__\n",
      "07_working_with_files.ipynb\tsome_module.py\n",
      "08_Lists.ipynb\n",
      "head: cannot open 'file' for reading: No such file or directory\n",
      "0\n"
     ]
    }
   ],
   "source": [
    "! pwd\n",
    "! date\n",
    "! ls\n",
    "! head file | tail -n 1 | wc -c "
   ]
  },
  {
   "cell_type": "code",
   "execution_count": 3,
   "metadata": {},
   "outputs": [
    {
     "name": "stdout",
     "output_type": "stream",
     "text": [
      "/home/dsc/python_class\r\n"
     ]
    }
   ],
   "source": [
    "!pwd"
   ]
  },
  {
   "cell_type": "code",
   "execution_count": 4,
   "metadata": {},
   "outputs": [],
   "source": [
    "! echo \"print ('Hello from Python')\" > hello.py"
   ]
  },
  {
   "cell_type": "code",
   "execution_count": 5,
   "metadata": {},
   "outputs": [
    {
     "name": "stdout",
     "output_type": "stream",
     "text": [
      "Hello from Python\r\n"
     ]
    }
   ],
   "source": [
    "! python hello.py"
   ]
  },
  {
   "cell_type": "code",
   "execution_count": 6,
   "metadata": {},
   "outputs": [
    {
     "name": "stdout",
     "output_type": "stream",
     "text": [
      "Hello from Python\n"
     ]
    }
   ],
   "source": [
    "%run hello.py"
   ]
  },
  {
   "cell_type": "code",
   "execution_count": 8,
   "metadata": {},
   "outputs": [
    {
     "name": "stdout",
     "output_type": "stream",
     "text": [
      "/home/dsc/python_class\n",
      "/home/dsc/python_class\n"
     ]
    }
   ],
   "source": [
    "! pwd\n",
    "! cd ../\n",
    "! pwd"
   ]
  },
  {
   "cell_type": "code",
   "execution_count": 13,
   "metadata": {},
   "outputs": [
    {
     "name": "stdout",
     "output_type": "stream",
     "text": [
      "/\n"
     ]
    },
    {
     "data": {
      "text/plain": [
       "'/'"
      ]
     },
     "execution_count": 13,
     "metadata": {},
     "output_type": "execute_result"
    }
   ],
   "source": [
    "%pwd\n",
    "%cd ../ \n",
    "%pwd"
   ]
  },
  {
   "cell_type": "markdown",
   "metadata": {},
   "source": [
    "#  Line and Cell magics\n",
    "\n",
    "\"Metacommands\" that allow us to interact with IPython.  \n",
    "__They are not Python! other interpreters will throw a SyntaxError if we use them in regular Python progrmas.__  \n",
    "They are intended only for interactive use."
   ]
  },
  {
   "cell_type": "code",
   "execution_count": 14,
   "metadata": {},
   "outputs": [
    {
     "data": {
      "application/json": {
       "cell": {
        "!": "OSMagics",
        "HTML": "Other",
        "SVG": "Other",
        "bash": "Other",
        "capture": "ExecutionMagics",
        "debug": "ExecutionMagics",
        "file": "Other",
        "html": "DisplayMagics",
        "javascript": "DisplayMagics",
        "js": "DisplayMagics",
        "latex": "DisplayMagics",
        "markdown": "DisplayMagics",
        "perl": "Other",
        "prun": "ExecutionMagics",
        "pypy": "Other",
        "python": "Other",
        "python2": "Other",
        "python3": "Other",
        "ruby": "Other",
        "script": "ScriptMagics",
        "sh": "Other",
        "svg": "DisplayMagics",
        "sx": "OSMagics",
        "system": "OSMagics",
        "time": "ExecutionMagics",
        "timeit": "ExecutionMagics",
        "writefile": "OSMagics"
       },
       "line": {
        "alias": "OSMagics",
        "alias_magic": "BasicMagics",
        "autoawait": "AsyncMagics",
        "autocall": "AutoMagics",
        "automagic": "AutoMagics",
        "autosave": "KernelMagics",
        "bookmark": "OSMagics",
        "cat": "Other",
        "cd": "OSMagics",
        "clear": "KernelMagics",
        "colors": "BasicMagics",
        "config": "ConfigMagics",
        "connect_info": "KernelMagics",
        "cp": "Other",
        "debug": "ExecutionMagics",
        "dhist": "OSMagics",
        "dirs": "OSMagics",
        "doctest_mode": "BasicMagics",
        "ed": "Other",
        "edit": "KernelMagics",
        "env": "OSMagics",
        "gui": "BasicMagics",
        "hist": "Other",
        "history": "HistoryMagics",
        "killbgscripts": "ScriptMagics",
        "ldir": "Other",
        "less": "KernelMagics",
        "lf": "Other",
        "lk": "Other",
        "ll": "Other",
        "load": "CodeMagics",
        "load_ext": "ExtensionMagics",
        "loadpy": "CodeMagics",
        "logoff": "LoggingMagics",
        "logon": "LoggingMagics",
        "logstart": "LoggingMagics",
        "logstate": "LoggingMagics",
        "logstop": "LoggingMagics",
        "ls": "Other",
        "lsmagic": "BasicMagics",
        "lx": "Other",
        "macro": "ExecutionMagics",
        "magic": "BasicMagics",
        "man": "KernelMagics",
        "matplotlib": "PylabMagics",
        "mkdir": "Other",
        "more": "KernelMagics",
        "mv": "Other",
        "notebook": "BasicMagics",
        "page": "BasicMagics",
        "pastebin": "CodeMagics",
        "pdb": "ExecutionMagics",
        "pdef": "NamespaceMagics",
        "pdoc": "NamespaceMagics",
        "pfile": "NamespaceMagics",
        "pinfo": "NamespaceMagics",
        "pinfo2": "NamespaceMagics",
        "pip": "BasicMagics",
        "popd": "OSMagics",
        "pprint": "BasicMagics",
        "precision": "BasicMagics",
        "prun": "ExecutionMagics",
        "psearch": "NamespaceMagics",
        "psource": "NamespaceMagics",
        "pushd": "OSMagics",
        "pwd": "OSMagics",
        "pycat": "OSMagics",
        "pylab": "PylabMagics",
        "qtconsole": "KernelMagics",
        "quickref": "BasicMagics",
        "recall": "HistoryMagics",
        "rehashx": "OSMagics",
        "reload_ext": "ExtensionMagics",
        "rep": "Other",
        "rerun": "HistoryMagics",
        "reset": "NamespaceMagics",
        "reset_selective": "NamespaceMagics",
        "rm": "Other",
        "rmdir": "Other",
        "run": "ExecutionMagics",
        "save": "CodeMagics",
        "sc": "OSMagics",
        "set_env": "OSMagics",
        "store": "StoreMagics",
        "sx": "OSMagics",
        "system": "OSMagics",
        "tb": "ExecutionMagics",
        "time": "ExecutionMagics",
        "timeit": "ExecutionMagics",
        "unalias": "OSMagics",
        "unload_ext": "ExtensionMagics",
        "who": "NamespaceMagics",
        "who_ls": "NamespaceMagics",
        "whos": "NamespaceMagics",
        "xdel": "NamespaceMagics",
        "xmode": "BasicMagics"
       }
      },
      "text/plain": [
       "Available line magics:\n",
       "%alias  %alias_magic  %autoawait  %autocall  %automagic  %autosave  %bookmark  %cat  %cd  %clear  %colors  %config  %connect_info  %cp  %debug  %dhist  %dirs  %doctest_mode  %ed  %edit  %env  %gui  %hist  %history  %killbgscripts  %ldir  %less  %lf  %lk  %ll  %load  %load_ext  %loadpy  %logoff  %logon  %logstart  %logstate  %logstop  %ls  %lsmagic  %lx  %macro  %magic  %man  %matplotlib  %mkdir  %more  %mv  %notebook  %page  %pastebin  %pdb  %pdef  %pdoc  %pfile  %pinfo  %pinfo2  %popd  %pprint  %precision  %prun  %psearch  %psource  %pushd  %pwd  %pycat  %pylab  %qtconsole  %quickref  %recall  %rehashx  %reload_ext  %rep  %rerun  %reset  %reset_selective  %rm  %rmdir  %run  %save  %sc  %set_env  %store  %sx  %system  %tb  %time  %timeit  %unalias  %unload_ext  %who  %who_ls  %whos  %xdel  %xmode\n",
       "\n",
       "Available cell magics:\n",
       "%%!  %%HTML  %%SVG  %%bash  %%capture  %%debug  %%file  %%html  %%javascript  %%js  %%latex  %%markdown  %%perl  %%prun  %%pypy  %%python  %%python2  %%python3  %%ruby  %%script  %%sh  %%svg  %%sx  %%system  %%time  %%timeit  %%writefile\n",
       "\n",
       "Automagic is ON, % prefix IS NOT needed for line magics."
      ]
     },
     "execution_count": 14,
     "metadata": {},
     "output_type": "execute_result"
    }
   ],
   "source": [
    "%lsmagic"
   ]
  },
  {
   "cell_type": "markdown",
   "metadata": {},
   "source": [
    "IPython has a set of predefined ‘magic functions’  \n",
    "Line magics are prefixed with the %  \n",
    "Cell magics are prefixed with a double %%\n"
   ]
  },
  {
   "cell_type": "markdown",
   "metadata": {},
   "source": [
    "---------------"
   ]
  },
  {
   "cell_type": "markdown",
   "metadata": {},
   "source": [
    "# Capturing the output of shell commands"
   ]
  },
  {
   "cell_type": "markdown",
   "metadata": {},
   "source": [
    "The output capture has the following special attributes:  \n",
    "__.l (or .list) : value as list.  \n",
    ".n (or .nlstr): value as newline-separated string.  \n",
    ".s (or .spstr): value as space-separated string.__  \n"
   ]
  },
  {
   "cell_type": "code",
   "execution_count": 15,
   "metadata": {},
   "outputs": [],
   "source": [
    "a = ! ls -l "
   ]
  },
  {
   "cell_type": "code",
   "execution_count": 16,
   "metadata": {},
   "outputs": [
    {
     "data": {
      "text/plain": [
       "IPython.utils.text.SList"
      ]
     },
     "execution_count": 16,
     "metadata": {},
     "output_type": "execute_result"
    }
   ],
   "source": [
    "type(a)"
   ]
  },
  {
   "cell_type": "code",
   "execution_count": 18,
   "metadata": {},
   "outputs": [
    {
     "data": {
      "text/plain": [
       "'total 2097256\\ndrwxr-xr-x   2 root root       4096 abr 26 19:35 bin\\ndrwxr-xr-x   3 root root       4096 abr 27 09:28 boot\\ndrwxrwxr-x   2 root root       4096 mar 28 16:54 cdrom\\ndrwxr-xr-x  18 root root       3900 may 17 17:02 dev\\ndrwxr-xr-x 134 root root      12288 may 17 17:02 etc\\ndrwxr-xr-x   3 root root       4096 mar 28 16:55 home\\nlrwxrwxrwx   1 root root         33 abr 26 19:37 initrd.img -> boot/initrd.img-4.15.0-47-generic\\nlrwxrwxrwx   1 root root         33 abr 26 19:37 initrd.img.old -> boot/initrd.img-4.15.0-46-generic\\ndrwxr-xr-x  20 root root       4096 mar 28 16:58 lib\\ndrwxr-xr-x   2 root root       4096 abr 26  2018 lib64\\ndrwx------   2 root root      16384 mar 28 16:51 lost+found\\ndrwxr-xr-x   3 root root       4096 mar 28 17:23 media\\ndrwxr-xr-x   2 root root       4096 abr 26  2018 mnt\\ndrwxr-xr-x   3 root root       4096 mar 28 17:24 opt\\ndr-xr-xr-x 170 root root          0 may 17 17:02 proc\\ndrwx------   6 root root       4096 mar 28 23:31 root\\ndrwxr-xr-x  23 root root        760 may 17 17:07 run\\ndrwxr-xr-x   2 root root      12288 abr 26 19:35 sbin\\ndrwxr-xr-x   2 root root       4096 mar 28 17:04 snap\\ndrwxr-xr-x   2 root root       4096 abr 26  2018 srv\\n-rw-------   1 root root 2147483648 mar 28 16:51 swapfile\\ndr-xr-xr-x  13 root root          0 may 17 17:02 sys\\ndrwxrwxrwt  12 root root       4096 may 17 17:12 tmp\\ndrwxr-xr-x  10 root root       4096 abr 26  2018 usr\\ndrwxr-xr-x  14 root root       4096 abr 26  2018 var\\nlrwxrwxrwx   1 root root         30 abr 26 19:37 vmlinuz -> boot/vmlinuz-4.15.0-47-generic\\nlrwxrwxrwx   1 root root         30 abr 26 19:37 vmlinuz.old -> boot/vmlinuz-4.15.0-46-generic'"
      ]
     },
     "execution_count": 18,
     "metadata": {},
     "output_type": "execute_result"
    }
   ],
   "source": [
    "a.n"
   ]
  },
  {
   "cell_type": "code",
   "execution_count": 21,
   "metadata": {},
   "outputs": [
    {
     "data": {
      "text/plain": [
       "'total 2097256 drwxr-xr-x   2 root root       4096 abr 26 19:35 bin drwxr-xr-x   3 root root       4096 abr 27 09:28 boot drwxrwxr-x   2 root root       4096 mar 28 16:54 cdrom drwxr-xr-x  18 root root       3900 may 17 17:02 dev drwxr-xr-x 134 root root      12288 may 17 17:02 etc drwxr-xr-x   3 root root       4096 mar 28 16:55 home lrwxrwxrwx   1 root root         33 abr 26 19:37 initrd.img -> boot/initrd.img-4.15.0-47-generic lrwxrwxrwx   1 root root         33 abr 26 19:37 initrd.img.old -> boot/initrd.img-4.15.0-46-generic drwxr-xr-x  20 root root       4096 mar 28 16:58 lib drwxr-xr-x   2 root root       4096 abr 26  2018 lib64 drwx------   2 root root      16384 mar 28 16:51 lost+found drwxr-xr-x   3 root root       4096 mar 28 17:23 media drwxr-xr-x   2 root root       4096 abr 26  2018 mnt drwxr-xr-x   3 root root       4096 mar 28 17:24 opt dr-xr-xr-x 170 root root          0 may 17 17:02 proc drwx------   6 root root       4096 mar 28 23:31 root drwxr-xr-x  23 root root        760 may 17 17:07 run drwxr-xr-x   2 root root      12288 abr 26 19:35 sbin drwxr-xr-x   2 root root       4096 mar 28 17:04 snap drwxr-xr-x   2 root root       4096 abr 26  2018 srv -rw-------   1 root root 2147483648 mar 28 16:51 swapfile dr-xr-xr-x  13 root root          0 may 17 17:02 sys drwxrwxrwt  12 root root       4096 may 17 17:12 tmp drwxr-xr-x  10 root root       4096 abr 26  2018 usr drwxr-xr-x  14 root root       4096 abr 26  2018 var lrwxrwxrwx   1 root root         30 abr 26 19:37 vmlinuz -> boot/vmlinuz-4.15.0-47-generic lrwxrwxrwx   1 root root         30 abr 26 19:37 vmlinuz.old -> boot/vmlinuz-4.15.0-46-generic'"
      ]
     },
     "execution_count": 21,
     "metadata": {},
     "output_type": "execute_result"
    }
   ],
   "source": [
    "a.s"
   ]
  },
  {
   "cell_type": "code",
   "execution_count": 22,
   "metadata": {},
   "outputs": [
    {
     "data": {
      "text/plain": [
       "['total 2097256',\n",
       " 'drwxr-xr-x   2 root root       4096 abr 26 19:35 bin',\n",
       " 'drwxr-xr-x   3 root root       4096 abr 27 09:28 boot',\n",
       " 'drwxrwxr-x   2 root root       4096 mar 28 16:54 cdrom',\n",
       " 'drwxr-xr-x  18 root root       3900 may 17 17:02 dev',\n",
       " 'drwxr-xr-x 134 root root      12288 may 17 17:02 etc',\n",
       " 'drwxr-xr-x   3 root root       4096 mar 28 16:55 home',\n",
       " 'lrwxrwxrwx   1 root root         33 abr 26 19:37 initrd.img -> boot/initrd.img-4.15.0-47-generic',\n",
       " 'lrwxrwxrwx   1 root root         33 abr 26 19:37 initrd.img.old -> boot/initrd.img-4.15.0-46-generic',\n",
       " 'drwxr-xr-x  20 root root       4096 mar 28 16:58 lib',\n",
       " 'drwxr-xr-x   2 root root       4096 abr 26  2018 lib64',\n",
       " 'drwx------   2 root root      16384 mar 28 16:51 lost+found',\n",
       " 'drwxr-xr-x   3 root root       4096 mar 28 17:23 media',\n",
       " 'drwxr-xr-x   2 root root       4096 abr 26  2018 mnt',\n",
       " 'drwxr-xr-x   3 root root       4096 mar 28 17:24 opt',\n",
       " 'dr-xr-xr-x 170 root root          0 may 17 17:02 proc',\n",
       " 'drwx------   6 root root       4096 mar 28 23:31 root',\n",
       " 'drwxr-xr-x  23 root root        760 may 17 17:07 run',\n",
       " 'drwxr-xr-x   2 root root      12288 abr 26 19:35 sbin',\n",
       " 'drwxr-xr-x   2 root root       4096 mar 28 17:04 snap',\n",
       " 'drwxr-xr-x   2 root root       4096 abr 26  2018 srv',\n",
       " '-rw-------   1 root root 2147483648 mar 28 16:51 swapfile',\n",
       " 'dr-xr-xr-x  13 root root          0 may 17 17:02 sys',\n",
       " 'drwxrwxrwt  12 root root       4096 may 17 17:12 tmp',\n",
       " 'drwxr-xr-x  10 root root       4096 abr 26  2018 usr',\n",
       " 'drwxr-xr-x  14 root root       4096 abr 26  2018 var',\n",
       " 'lrwxrwxrwx   1 root root         30 abr 26 19:37 vmlinuz -> boot/vmlinuz-4.15.0-47-generic',\n",
       " 'lrwxrwxrwx   1 root root         30 abr 26 19:37 vmlinuz.old -> boot/vmlinuz-4.15.0-46-generic']"
      ]
     },
     "execution_count": 22,
     "metadata": {},
     "output_type": "execute_result"
    }
   ],
   "source": [
    "a.l"
   ]
  },
  {
   "cell_type": "code",
   "execution_count": 23,
   "metadata": {},
   "outputs": [
    {
     "name": "stdout",
     "output_type": "stream",
     "text": [
      "/home/dsc/python_class\n"
     ]
    }
   ],
   "source": [
    "cd ./home/dsc/python_class/\n"
   ]
  },
  {
   "cell_type": "code",
   "execution_count": null,
   "metadata": {},
   "outputs": [],
   "source": []
  },
  {
   "cell_type": "code",
   "execution_count": null,
   "metadata": {},
   "outputs": [],
   "source": []
  },
  {
   "cell_type": "markdown",
   "metadata": {},
   "source": [
    "__Can we reuse this for the input of another magic command? YES!__"
   ]
  },
  {
   "attachments": {
    "image.png": {
     "image/png": "[encoded data removed]"
    }
   },
   "cell_type": "markdown",
   "metadata": {},
   "source": [
    "![image.png](attachment:image.png)"
   ]
  },
  {
   "cell_type": "markdown",
   "metadata": {},
   "source": [
    "__You can use curly braces to substitute the value of a Python expression within a shell command__"
   ]
  },
  {
   "cell_type": "code",
   "execution_count": 24,
   "metadata": {},
   "outputs": [],
   "source": [
    "quijote = \"En un lugar de la Mancha...\""
   ]
  },
  {
   "cell_type": "code",
   "execution_count": 25,
   "metadata": {},
   "outputs": [
    {
     "name": "stdout",
     "output_type": "stream",
     "text": [
      "En un lugar de la Mancha...\r\n"
     ]
    }
   ],
   "source": [
    "!  echo $quijote"
   ]
  },
  {
   "cell_type": "code",
   "execution_count": 30,
   "metadata": {},
   "outputs": [
    {
     "name": "stdout",
     "output_type": "stream",
     "text": [
      "En un lugar de la Mancha...\r\n"
     ]
    }
   ],
   "source": [
    "!  echo {quijote}"
   ]
  },
  {
   "cell_type": "code",
   "execution_count": 29,
   "metadata": {},
   "outputs": [
    {
     "name": "stdout",
     "output_type": "stream",
     "text": [
      "[En , n l, gar de la Mancha...]\r\n"
     ]
    }
   ],
   "source": [
    "! echo {quijote.split('u')}"
   ]
  },
  {
   "cell_type": "markdown",
   "metadata": {},
   "source": [
    "__Accessing environement variables of shell from Python.__  "
   ]
  },
  {
   "cell_type": "code",
   "execution_count": 31,
   "metadata": {},
   "outputs": [
    {
     "name": "stdout",
     "output_type": "stream",
     "text": [
      "Once deleted, variables cannot be recovered. Proceed (y/[n])? y\n"
     ]
    }
   ],
   "source": [
    "reset"
   ]
  },
  {
   "cell_type": "code",
   "execution_count": 32,
   "metadata": {},
   "outputs": [],
   "source": [
    "import os\n",
    "home_dir=os.getenv('HOME')"
   ]
  },
  {
   "cell_type": "code",
   "execution_count": 33,
   "metadata": {},
   "outputs": [
    {
     "data": {
      "text/plain": [
       "'/home/dsc'"
      ]
     },
     "execution_count": 33,
     "metadata": {},
     "output_type": "execute_result"
    }
   ],
   "source": [
    "home_dir"
   ]
  },
  {
   "cell_type": "markdown",
   "metadata": {},
   "source": [
    "__Running system commands from Python.__  "
   ]
  },
  {
   "cell_type": "code",
   "execution_count": 34,
   "metadata": {},
   "outputs": [
    {
     "name": "stdout",
     "output_type": "stream",
     "text": [
      "Result: 0\n"
     ]
    }
   ],
   "source": [
    "import os\n",
    "\n",
    "# Ejecutar un comando con \"os.system(comando)\" y mostrar en\n",
    "# pantalla la salida del comando y el resultado de la \n",
    "# ejecución.\n",
    "# Si su valor es 0 la ejecución finalizó con éxito.\n",
    "valor1 = os.system(\"whoami\")\n",
    "print('Result:', valor1)\n"
   ]
  },
  {
   "cell_type": "code",
   "execution_count": 35,
   "metadata": {},
   "outputs": [
    {
     "name": "stdout",
     "output_type": "stream",
     "text": [
      "Result: 32512\n"
     ]
    }
   ],
   "source": [
    "# Ejecutar un comando \"erróneo\" con \"os.system(comando)\"\n",
    "\n",
    "valor1 = os.system(\"blblblbl\")\n",
    "print('Result:', valor1)"
   ]
  },
  {
   "cell_type": "code",
   "execution_count": 37,
   "metadata": {},
   "outputs": [
    {
     "name": "stdout",
     "output_type": "stream",
     "text": [
      "Result: 0\n"
     ]
    }
   ],
   "source": [
    "# Ejecutar varios comandos con \"os.system(comando)\"\n",
    "\n",
    "commando3 = \"ls -l | grep 'py' > textos.txt\"\n",
    "valor1 = os.system(commando3)\n",
    "print('Result:', valor1)"
   ]
  },
  {
   "cell_type": "code",
   "execution_count": 38,
   "metadata": {
    "collapsed": true
   },
   "outputs": [
    {
     "name": "stdout",
     "output_type": "stream",
     "text": [
      "-rw-rw-r-- 1 dsc dsc  15140 may 11 11:00 01_intro.ipynb\r\n",
      "-rw-rw-r-- 1 dsc dsc   4109 may 11 13:42 02_flow_control.ipynb\r\n",
      "-rw-rw-r-- 1 dsc dsc  38024 may 11 13:23 03_functions_and_imports.ipynb\r\n",
      "-rw-rw-r-- 1 dsc dsc  16055 may 11 13:55 04_shell_magics.ipynb\r\n",
      "-rw-rw-r-- 1 dsc dsc 197608 may 17 17:28 05_shell_and_magic.ipynb\r\n",
      "-rw-rw-r-- 1 dsc dsc   3980 may 17 09:52 06_exercises.ipynb\r\n",
      "-rw-rw-r-- 1 dsc dsc 136001 may 17 09:47 07_working_with_files.ipynb\r\n",
      "-rw-rw-r-- 1 dsc dsc 574650 may 17 09:47 08_Lists.ipynb\r\n",
      "-rw-rw-r-- 1 dsc dsc  80723 may 17 09:47 09_exercises.ipynb\r\n",
      "-rw-rw-r-- 1 dsc dsc 156475 may 17 09:47 10_tuplas.ipynb\r\n",
      "-rw-rw-r-- 1 dsc dsc   1173 may 17 09:47 11_exercises.ipynb\r\n",
      "-rw-rw-r-- 1 dsc dsc  13536 may 17 09:47 12_Dict_y_set.ipynb\r\n",
      "-rw-rw-r-- 1 dsc dsc   1435 may 17 09:47 13_exercises.ipynb\r\n",
      "-rw-rw-r-- 1 dsc dsc     28 may 17 17:09 hello.py\r\n",
      "drwxrwxr-x 2 dsc dsc   4096 may 11 12:11 __pycache__\r\n",
      "-rw-rw-r-- 1 dsc dsc     68 may 11 12:10 some_module.py\r\n"
     ]
    }
   ],
   "source": [
    "! cat ./textos.txt"
   ]
  },
  {
   "cell_type": "markdown",
   "metadata": {},
   "source": [
    "__We see that it has finished well or not but not the result__"
   ]
  },
  {
   "cell_type": "code",
   "execution_count": 41,
   "metadata": {
    "collapsed": true
   },
   "outputs": [
    {
     "name": "stdout",
     "output_type": "stream",
     "text": [
      "-rw-rw-r-- 1 dsc dsc  15140 may 11 11:00 01_intro.ipynb\n",
      "-rw-rw-r-- 1 dsc dsc   4109 may 11 13:42 02_flow_control.ipynb\n",
      "-rw-rw-r-- 1 dsc dsc  38024 may 11 13:23 03_functions_and_imports.ipynb\n",
      "-rw-rw-r-- 1 dsc dsc  16055 may 11 13:55 04_shell_magics.ipynb\n",
      "-rw-rw-r-- 1 dsc dsc 199018 may 17 17:30 05_shell_and_magic.ipynb\n",
      "-rw-rw-r-- 1 dsc dsc   3980 may 17 09:52 06_exercises.ipynb\n",
      "-rw-rw-r-- 1 dsc dsc 136001 may 17 09:47 07_working_with_files.ipynb\n",
      "-rw-rw-r-- 1 dsc dsc 574650 may 17 09:47 08_Lists.ipynb\n",
      "-rw-rw-r-- 1 dsc dsc  80723 may 17 09:47 09_exercises.ipynb\n",
      "-rw-rw-r-- 1 dsc dsc 156475 may 17 09:47 10_tuplas.ipynb\n",
      "-rw-rw-r-- 1 dsc dsc   1173 may 17 09:47 11_exercises.ipynb\n",
      "-rw-rw-r-- 1 dsc dsc  13536 may 17 09:47 12_Dict_y_set.ipynb\n",
      "-rw-rw-r-- 1 dsc dsc   1435 may 17 09:47 13_exercises.ipynb\n",
      "-rw-rw-r-- 1 dsc dsc     28 may 17 17:09 hello.py\n",
      "drwxrwxr-x 2 dsc dsc   4096 may 11 12:11 __pycache__\n",
      "-rw-rw-r-- 1 dsc dsc     68 may 11 12:10 some_module.py\n",
      "\n"
     ]
    }
   ],
   "source": [
    "# Ejecutar un comando con \"os.popen(comando)\" y capturar su \n",
    "# salida\n",
    "\n",
    "commando3 = \"ls -l | grep 'py' \"\n",
    "valor1 = os.popen(commando3).read()\n",
    "print(valor1)\n",
    "\n"
   ]
  },
  {
   "cell_type": "code",
   "execution_count": 43,
   "metadata": {},
   "outputs": [
    {
     "name": "stdout",
     "output_type": "stream",
     "text": [
      "PING a1749.g.akamai.net (2.22.234.123) 56(84) bytes of data.\n",
      "64 bytes from a2-22-234-123.deploy.static.akamaitechnologies.com (2.22.234.123): icmp_seq=1 ttl=54 time=51.8 ms\n",
      "64 bytes from a2-22-234-123.deploy.static.akamaitechnologies.com (2.22.234.123): icmp_seq=2 ttl=54 time=42.1 ms\n",
      "64 bytes from a2-22-234-123.deploy.static.akamaitechnologies.com (2.22.234.123): icmp_seq=3 ttl=54 time=43.2 ms\n",
      "\n",
      "--- a1749.g.akamai.net ping statistics ---\n",
      "3 packets transmitted, 3 received, 0% packet loss, time 2004ms\n",
      "rtt min/avg/max/mdev = 42.168/45.758/51.834/4.319 ms\n",
      "\n"
     ]
    }
   ],
   "source": [
    "# We get the results ones the command has finished\n",
    "commando3 = \"ping -c3 www.elpais.es \"\n",
    "valor1 = os.popen(commando3).read()\n",
    "print(valor1)"
   ]
  },
  {
   "cell_type": "code",
   "execution_count": 46,
   "metadata": {},
   "outputs": [
    {
     "name": "stdout",
     "output_type": "stream",
     "text": [
      "PING a1749.g.akamai.net (72.247.210.40) 56(84) bytes of data.\n",
      "\n",
      "64 bytes from a72-247-210-40.deploy.static.akamaitechnologies.com (72.247.210.40): icmp_seq=1 ttl=50 time=61.8 ms\n",
      "\n",
      "64 bytes from a72-247-210-40.deploy.static.akamaitechnologies.com (72.247.210.40): icmp_seq=2 ttl=50 time=57.2 ms\n",
      "\n",
      "64 bytes from a72-247-210-40.deploy.static.akamaitechnologies.com (72.247.210.40): icmp_seq=3 ttl=50 time=58.0 ms\n",
      "\n",
      "\n",
      "\n",
      "--- a1749.g.akamai.net ping statistics ---\n",
      "\n",
      "3 packets transmitted, 3 received, 0% packet loss, time 2002ms\n",
      "\n",
      "rtt min/avg/max/mdev = 57.280/59.047/61.824/1.997 ms\n",
      "\n"
     ]
    }
   ],
   "source": [
    "# Ejecutar un comando externo con subprocess.Popen() y\n",
    "# obtener su salida en tiempo real\n",
    "import subprocess\n",
    "commando3 = \"ping -c3 www.elpais.es \"\n",
    "\n",
    "resultado = subprocess.Popen(commando3, shell=True, stdout=subprocess.PIPE)\n",
    "\n",
    "for salida in resultado.stdout:\n",
    "    print(salida.decode())\n",
    "#print(valor1)"
   ]
  },
  {
   "cell_type": "code",
   "execution_count": 10,
   "metadata": {},
   "outputs": [],
   "source": [
    "# Ejecutar un comando externo con subprocess.Popen() y\n",
    "# obtener su salida en tiempo real\n",
    "import subprocess\n",
    "\n",
    "comando11 = \"ping -c3 www.elpais.es\"\n",
    "resultado11 = subprocess.Popen(comando11, \n",
    "                               shell=True, \n",
    "                               stdout=subprocess.PIPE)\n",
    "\n",
    "for salida11 in resultado11.stdout:\n",
    "    print(salida11.decode())\n",
    "     \n",
    "     "
   ]
  },
  {
   "cell_type": "code",
   "execution_count": 11,
   "metadata": {},
   "outputs": [],
   "source": [
    "# Ejecutar un comando externo con subprocess.Popen() y\n",
    "# obtener su salida en tiempo real\n",
    "\n",
    "import subprocess\n",
    "\n",
    "comando11 = \"ping -c3 www.elpais.es\"\n",
    "resultado11 = subprocess.Popen(comando11, \n",
    "                               shell=True, \n",
    "                               stdout=subprocess.PIPE)\n",
    "    \n",
    "for salida11 in resultado11.stdout:\n",
    "    print(salida11.decode().rstrip())   "
   ]
  },
  {
   "cell_type": "code",
   "execution_count": 13,
   "metadata": {},
   "outputs": [],
   "source": [
    "# Ejecutar un comando externo con subprocess.Popen()\n",
    "# y obtener la salida en tiempo real (Otra forma de\n",
    "# hacerlo)\n",
    "import sys\n",
    "comando12 = \"ping -c3 www.elpais.es\"\n",
    "resultado12 = subprocess.Popen(comando12, \n",
    "                               shell=True, \n",
    "                               stdout=subprocess.PIPE)\n",
    "while resultado12.poll() is None:\n",
    "    salida12 = resultado12.stdout.readline()\n",
    "    print(salida12.decode(sys.getdefaultencoding()).rstrip())"
   ]
  },
  {
   "cell_type": "code",
   "execution_count": null,
   "metadata": {},
   "outputs": [],
   "source": []
  },
  {
   "cell_type": "markdown",
   "metadata": {},
   "source": [
    "When shell=False , args[:] is a command line to execute.  \n",
    "When shell=True , args[0] is a command line to execute and args[1:] is arguments to sh .  "
   ]
  },
  {
   "cell_type": "code",
   "execution_count": 190,
   "metadata": {},
   "outputs": [
    {
     "data": {
      "text/plain": [
       "0"
      ]
     },
     "execution_count": 190,
     "metadata": {},
     "output_type": "execute_result"
    }
   ],
   "source": [
    "import subprocess\n",
    "subprocess.call(['date','-u', '+%A'])\n",
    "#subprocess.call(['date -u ']) # this does not work\n",
    "subprocess.call('echo $HOME', shell=True)"
   ]
  },
  {
   "cell_type": "code",
   "execution_count": 1,
   "metadata": {
    "collapsed": true
   },
   "outputs": [
    {
     "name": "stdout",
     "output_type": "stream",
     "text": [
      "Salida de errores:\n",
      "\n",
      "\n",
      "Salida del comando:\n",
      "\n",
      ".\n",
      "..\n",
      ".ipynb_checkpoints\n",
      "05_shell_and_magic.ipynb\n",
      "06_exercises.ipynb\n",
      "07_working_with_files.ipynb\n",
      "08_Lists.ipynb\n",
      "09_exercises.ipynb\n",
      "10_tuplas.ipynb\n",
      "11_exercises.ipynb\n",
      "12_Dict_y_set.ipynb\n",
      "13_exercises.ipynb\n",
      "m16c05.zip\n",
      "\n"
     ]
    }
   ],
   "source": [
    "# Ejecutar un comando en paralelo con \n",
    "# \"subprocess.Popen\" y capturar su salida y\n",
    "# los errores que puedieran darse\n",
    "import sys\n",
    "import subprocess\n",
    "\n",
    "proceso8 = subprocess.Popen(['ls', '-a'], \n",
    "                            stdout=subprocess.PIPE, \n",
    "                            stderr=subprocess.PIPE)\n",
    "errores8 = proceso8.stderr.read()\n",
    "salida8 = proceso8.stdout.read()\n",
    "proceso8.stderr.close()\n",
    "proceso8.stdout.close()\n",
    "print(\"Salida de errores:\\n\")\n",
    "errores8 = errores8.decode(sys.getdefaultencoding())\n",
    "print(errores8)\n",
    "salida8 = salida8.decode(sys.getdefaultencoding())\n",
    "print(\"Salida del comando:\\n\")\n",
    "print(salida8)"
   ]
  },
  {
   "cell_type": "markdown",
   "metadata": {},
   "source": [
    "https://python-para-impacientes.blogspot.com/2014/02/ejecutar-un-comando-externo.html"
   ]
  },
  {
   "cell_type": "markdown",
   "metadata": {},
   "source": [
    "# Controling the workspace"
   ]
  },
  {
   "cell_type": "code",
   "execution_count": 49,
   "metadata": {},
   "outputs": [
    {
     "name": "stdout",
     "output_type": "stream",
     "text": [
      "Variable     Type      Data/Info\n",
      "--------------------------------\n",
      "commando3    str       ping -c3 www.elpais.es \n",
      "errores8     bytes     b''\n",
      "home_dir     str       /home/dsc\n",
      "os           module    <module 'os' from '/home/<...>da3/lib/python3.7/os.py'>\n",
      "proceso8     Popen     <subprocess.Popen object at 0x7fb40cc056a0>\n",
      "resultado    Popen     <subprocess.Popen object at 0x7fb40cc0d5f8>\n",
      "salida       bytes     b'rtt min/avg/max/mdev = <...>59.047/61.824/1.997 ms\\n'\n",
      "salida8      bytes     b'.\\n..\\n01_intro.ipynb\\n<...>_module.py\\ntextos.txt\\n'\n",
      "subprocess   module    <module 'subprocess' from<...>python3.7/subprocess.py'>\n",
      "valor1       str       PING a1749.g.akamai.net (<...>/45.758/51.834/4.319 ms\\n\n"
     ]
    }
   ],
   "source": [
    "%whos"
   ]
  },
  {
   "cell_type": "code",
   "execution_count": 50,
   "metadata": {},
   "outputs": [
    {
     "name": "stdout",
     "output_type": "stream",
     "text": [
      "commando3\t errores8\t home_dir\t os\t proceso8\t resultado\t salida\t salida8\t subprocess\t \n",
      "valor1\t \n"
     ]
    }
   ],
   "source": [
    "%who"
   ]
  },
  {
   "cell_type": "code",
   "execution_count": 51,
   "metadata": {},
   "outputs": [
    {
     "name": "stdout",
     "output_type": "stream",
     "text": [
      "Once deleted, variables cannot be recovered. Proceed (y/[n])? y\n"
     ]
    }
   ],
   "source": [
    "reset"
   ]
  },
  {
   "cell_type": "code",
   "execution_count": 55,
   "metadata": {},
   "outputs": [
    {
     "name": "stdout",
     "output_type": "stream",
     "text": [
      "a\t k\t \n"
     ]
    }
   ],
   "source": [
    "k=5; a=k*3\n",
    "%who"
   ]
  },
  {
   "cell_type": "code",
   "execution_count": 56,
   "metadata": {},
   "outputs": [],
   "source": [
    "del a"
   ]
  },
  {
   "cell_type": "code",
   "execution_count": 57,
   "metadata": {},
   "outputs": [
    {
     "name": "stdout",
     "output_type": "stream",
     "text": [
      "k\t \n"
     ]
    }
   ],
   "source": [
    "who"
   ]
  },
  {
   "cell_type": "code",
   "execution_count": 65,
   "metadata": {},
   "outputs": [
    {
     "name": "stdout",
     "output_type": "stream",
     "text": [
      "Once deleted, variables cannot be recovered. Proceed (y/[n])? y\n"
     ]
    }
   ],
   "source": [
    "reset"
   ]
  },
  {
   "cell_type": "code",
   "execution_count": 70,
   "metadata": {},
   "outputs": [
    {
     "name": "stdout",
     "output_type": "stream",
     "text": [
      "a\t k\t \n"
     ]
    }
   ],
   "source": [
    "k=5; a=k\n",
    "%who"
   ]
  },
  {
   "cell_type": "code",
   "execution_count": 71,
   "metadata": {},
   "outputs": [],
   "source": [
    "%xdel a"
   ]
  },
  {
   "cell_type": "code",
   "execution_count": 72,
   "metadata": {},
   "outputs": [
    {
     "name": "stdout",
     "output_type": "stream",
     "text": [
      "Interactive namespace is empty.\n"
     ]
    }
   ],
   "source": [
    "%who"
   ]
  },
  {
   "cell_type": "markdown",
   "metadata": {},
   "source": [
    "# History"
   ]
  },
  {
   "attachments": {
    "image.png": {
     "image/png": "[encoded data removed]"
    }
   },
   "cell_type": "markdown",
   "metadata": {},
   "source": [
    "![image.png](attachment:image.png)"
   ]
  },
  {
   "cell_type": "code",
   "execution_count": 63,
   "metadata": {},
   "outputs": [],
   "source": [
    "%history -f session_hist.py"
   ]
  },
  {
   "cell_type": "code",
   "execution_count": 64,
   "metadata": {},
   "outputs": [
    {
     "name": "stdout",
     "output_type": "stream",
     "text": [
      "! pwd\r\n",
      "! date\r\n",
      "! ls\r\n",
      "! head file | tail -n 1 | wc -c\r\n",
      "!pwd\r\n",
      "! date\r\n",
      "! ls\r\n",
      "! head file | tail -n 1 | wc -c\r\n",
      "!pwd\r\n",
      "! echo \"print ('Hello from Python')\" > hello.py\r\n"
     ]
    }
   ],
   "source": [
    "! head session_hist.py"
   ]
  },
  {
   "cell_type": "code",
   "execution_count": 73,
   "metadata": {},
   "outputs": [],
   "source": [
    "%history -g -f full_python_history.txt"
   ]
  },
  {
   "cell_type": "code",
   "execution_count": 74,
   "metadata": {},
   "outputs": [
    {
     "name": "stdout",
     "output_type": "stream",
     "text": [
      " 1/1: sc\r\n",
      " 1/2: f = sc.textFile(\"vm-config-master/install_everything.sh\")\r\n",
      " 1/3: f.map(lambda line: line[0])\r\n",
      " 1/4:\r\n",
      "\r\n",
      "f.map(lambda line: line[0]).collect()\r\n",
      " 1/5:\r\n",
      "\r\n",
      "f.map(lambda line: line[0:1]).collect()\r\n",
      " 1/6: spark\r\n"
     ]
    }
   ],
   "source": [
    "!head full_python_history.txt"
   ]
  },
  {
   "cell_type": "code",
   "execution_count": 75,
   "metadata": {},
   "outputs": [
    {
     "name": "stdout",
     "output_type": "stream",
     "text": [
      "%who\r\n",
      "  67: %xdel k\r\n",
      "  68: %who\r\n",
      "  69: %xdel a\r\n",
      "  70:\r\n",
      "k=5; a=k\r\n",
      "%who\r\n",
      "  71: %xdel a\r\n",
      "  72: %who\r\n",
      "  73: %history -g -f full_python_history.txt\r\n"
     ]
    }
   ],
   "source": [
    "!tail full_python_history.txt"
   ]
  },
  {
   "cell_type": "markdown",
   "metadata": {},
   "source": [
    "----------------"
   ]
  },
  {
   "cell_type": "markdown",
   "metadata": {},
   "source": [
    "__History of visited directories__"
   ]
  },
  {
   "cell_type": "code",
   "execution_count": 76,
   "metadata": {},
   "outputs": [
    {
     "name": "stdout",
     "output_type": "stream",
     "text": [
      "Directory history (kept in _dh)\n",
      "0: /home/dsc/python_class\n"
     ]
    }
   ],
   "source": [
    "%dhist"
   ]
  },
  {
   "cell_type": "code",
   "execution_count": 77,
   "metadata": {},
   "outputs": [
    {
     "name": "stdout",
     "output_type": "stream",
     "text": [
      "/home/dsc\n"
     ]
    }
   ],
   "source": [
    "cd ../"
   ]
  },
  {
   "cell_type": "code",
   "execution_count": 78,
   "metadata": {},
   "outputs": [
    {
     "data": {
      "text/plain": [
       "['/home/dsc/python_class', '/home/dsc']"
      ]
     },
     "execution_count": 78,
     "metadata": {},
     "output_type": "execute_result"
    }
   ],
   "source": [
    "_dh"
   ]
  },
  {
   "cell_type": "code",
   "execution_count": 80,
   "metadata": {},
   "outputs": [
    {
     "name": "stdout",
     "output_type": "stream",
     "text": [
      "/home/dsc/python_class\n"
     ]
    }
   ],
   "source": [
    "%cd  {_dh[0]}"
   ]
  },
  {
   "cell_type": "code",
   "execution_count": null,
   "metadata": {},
   "outputs": [],
   "source": []
  },
  {
   "cell_type": "code",
   "execution_count": null,
   "metadata": {},
   "outputs": [],
   "source": []
  },
  {
   "cell_type": "code",
   "execution_count": null,
   "metadata": {},
   "outputs": [],
   "source": []
  },
  {
   "cell_type": "code",
   "execution_count": null,
   "metadata": {},
   "outputs": [],
   "source": []
  }
 ],
 "metadata": {
  "kernelspec": {
   "display_name": "Python 3",
   "language": "python",
   "name": "python3"
  },
  "language_info": {
   "codemirror_mode": {
    "name": "ipython",
    "version": 3
   },
   "file_extension": ".py",
   "mimetype": "text/x-python",
   "name": "python",
   "nbconvert_exporter": "python",
   "pygments_lexer": "ipython3",
   "version": "3.6.8"
  }
 },
 "nbformat": 4,
 "nbformat_minor": 2
}
